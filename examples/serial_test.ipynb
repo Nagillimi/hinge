{
 "cells": [
  {
   "cell_type": "code",
   "execution_count": 125,
   "id": "be43a559-8417-45be-b2b5-11c7ac004638",
   "metadata": {
    "tags": []
   },
   "outputs": [
    {
     "name": "stdout",
     "output_type": "stream",
     "text": [
      "Connected to port: COM5\n",
      "Incoming data config\n",
      "b'CONFIG: [ts, pot, ax1, ay1, az1, gx1, gy1, gz1, ax2, ay2, az2, gx2, gy2, gz2]\\r\\n'\n",
      "Length of packet: 71\n",
      "Packet type: <class 'bytes'> <class 'int'>\n",
      "First timestamp: 50 \n",
      "\n"
     ]
    }
   ],
   "source": [
    "import serial\n",
    "from anatomical_hinge_nagillimi.anatomical_hinge import AnatomicalHinge\n",
    "from anatomical_hinge_nagillimi.data import Data\n",
    "from anatomical_hinge_nagillimi.result.joint_result import HingeJointResult\n",
    "\n",
    "hinge = AnatomicalHinge()\n",
    "ser = serial.Serial(\"COM5\", 38400)\n",
    "\n",
    "print(\"Connected to port: \", ser.portstr)\n",
    "print(\"Incoming data config\")\n",
    "print(ser.readline())\n",
    "serialData = ser.readline()\n",
    "print(\"Length of packet:\", len(serialData))\n",
    "print(\"Packet type:\", type(serialData), type(serialData[0]))\n",
    "print(\"First timestamp:\", int(serialData[0]), \"\\n\")"
   ]
  },
  {
   "cell_type": "code",
   "execution_count": 126,
   "id": "238752d3-9f37-4397-a420-3c4d087f6668",
   "metadata": {},
   "outputs": [],
   "source": [
    "# env constants\n",
    "max_raw_range = 16384 * 2\n",
    "g_per_raw_range = 2 / max_raw_range\n",
    "dps_per_raw_range = 250 / max_raw_range"
   ]
  },
  {
   "cell_type": "code",
   "execution_count": 127,
   "id": "ecdc126f",
   "metadata": {},
   "outputs": [],
   "source": [
    "import math\n",
    "\n",
    "# Define the read data function\n",
    "def readData():\n",
    "    byteData = ser.readline().split(b\"\\x09\")\n",
    "    ts = int(byteData[0]) / 1000\n",
    "    a1 = [\n",
    "        float(byteData[1]) * g_per_raw_range,\n",
    "        float(byteData[2]) * g_per_raw_range,\n",
    "        float(byteData[3]) * g_per_raw_range\n",
    "    ]\n",
    "    g1 = [\n",
    "        math.radians(float(byteData[4]) * dps_per_raw_range),\n",
    "        math.radians(float(byteData[5]) * dps_per_raw_range),\n",
    "        math.radians(float(byteData[6]) * dps_per_raw_range)\n",
    "    ]\n",
    "    a2 = [\n",
    "        float(byteData[7]) * g_per_raw_range,\n",
    "        float(byteData[8]) * g_per_raw_range,\n",
    "        float(byteData[9]) * g_per_raw_range\n",
    "    ]\n",
    "    g2 = [\n",
    "        math.radians(float(byteData[10]) * dps_per_raw_range),\n",
    "        math.radians(float(byteData[11]) * dps_per_raw_range),\n",
    "        math.radians(float(byteData[12]) * dps_per_raw_range)\n",
    "    ]\n",
    "    return hinge.update(Data(int(ts), a1, g1, a2, g2))"
   ]
  },
  {
   "cell_type": "code",
   "execution_count": 128,
   "id": "f61296f0-7f9a-496c-ac26-475a79e1fc7b",
   "metadata": {
    "collapsed": true,
    "jupyter": {
     "outputs_hidden": true
    },
    "tags": []
   },
   "outputs": [
    {
     "name": "stdout",
     "output_type": "stream",
     "text": [
      "Axis solution iteration = 1\n",
      "Axis solution iteration = 2\n",
      "Axis solution iteration = 3\n",
      "Axis solution iteration = 4\n",
      "Axis solution iteration = 5\n",
      "Axis solution iteration = 6\n",
      "Axis solution iteration = 7\n",
      "Axis solution iteration = 8\n",
      "Axis solution iteration = 9\n",
      "Axis solution iteration = 10\n",
      "Axis solution iteration = 11\n",
      "Axis solution iteration = 12\n",
      "Axis solution iteration = 13\n",
      "Axis solution iteration = 14\n",
      "Axis solution iteration = 15\n",
      "Axis solution iteration = 16\n",
      "Axis solution iteration = 17\n",
      "Axis solution iteration = 18\n",
      "Axis solution iteration = 19\n",
      "Axis solution iteration = 20\n",
      "Axis solution iteration = 21\n",
      "Axis solution iteration = 22\n",
      "Axis solution iteration = 23\n",
      "Axis solution iteration = 24\n",
      "Axis solution iteration = 25\n",
      "Axis solution iteration = 26\n",
      "Axis solution iteration = 27\n",
      "Axis solution iteration = 28\n",
      "Axis solution iteration = 29\n",
      "Axis solution iteration = 30\n",
      "Axis solution iteration = 31\n",
      "Axis solution iteration = 32\n",
      "Axis solution iteration = 33\n",
      "Axis solution iteration = 34\n",
      "Axis solution iteration = 35\n",
      "Axis solution iteration = 36\n",
      "Axis solution iteration = 37\n",
      "Axis solution iteration = 38\n",
      "Axis solution iteration = 39\n",
      "Axis solution iteration = 40\n",
      "Axis solution iteration = 41\n",
      "Axis solution iteration = 42\n",
      "Axis solution iteration = 43\n",
      "Axis solution iteration = 44\n",
      "Axis solution iteration = 45\n",
      "Axis solution iteration = 46\n",
      "Axis solution iteration = 47\n",
      "Axis solution iteration = 48\n",
      "Axis solution iteration = 49\n",
      "Axis solution iteration = 50\n",
      "\n",
      "Final Solution Set\n",
      "\tJ1 = [0.8130698226121749, 0.39622896356726306, 0.4265208927916884]\n",
      "\tJ2 = [0.6035985065896835, 0.7664797076831984, 0.2194941925258672]\n",
      "\n",
      "\n",
      "Pose solution iteration = 1\n",
      "\n",
      "Final Solution Set\n",
      "\tO1 = [0.8015266118257632, 0.43869245443599486, 0.4063299410036565]\n",
      "\tO2 = [0.6725715857045304, 0.699873395611871, 0.24046765316275517]\n",
      "\n",
      "\n"
     ]
    }
   ],
   "source": [
    "# Calibrate\n",
    "byteData = ser.readline().split(b\"\\x09\")\n",
    "while len(byteData) != 0:\n",
    "    readData()\n",
    "    if hinge.status == HingeJointResult.STREAMING: break"
   ]
  },
  {
   "cell_type": "code",
   "execution_count": 141,
   "id": "ef0f77c7-3610-4782-831f-624cbc24db2c",
   "metadata": {
    "tags": []
   },
   "outputs": [
    {
     "name": "stderr",
     "output_type": "stream",
     "text": [
      "C:\\Users\\bmill\\AppData\\Local\\Temp\\ipykernel_12204\\2600730704.py:29: UserWarning: frames=None which we can infer the length of, did not pass an explicit *save_count* and passed cache_frame_data=True.  To avoid a possibly unbounded cache, frame data caching has been disabled. To suppress this warning either pass `cache_frame_data=False` or `save_count=MAX_FRAMES`.\n",
      "  ani = animation.FuncAnimation(fig, animate, fargs=(ys,), interval=50, blit=True)\n"
     ]
    },
    {
     "data": {
      "image/png": "[encoded data removed]",
      "text/plain": [
       "<Figure size 640x480 with 1 Axes>"
      ]
     },
     "metadata": {},
     "output_type": "display_data"
    }
   ],
   "source": [
    "from time import sleep\n",
    "import matplotlib.pyplot as plt\n",
    "import matplotlib.animation as animation\n",
    "\n",
    "# Create figure for plotting\n",
    "fig = plt.figure()\n",
    "ax = fig.add_subplot(1, 1, 1)\n",
    "\n",
    "x_len = 100\n",
    "xs = list(range(0, x_len))\n",
    "ys = [0] * x_len\n",
    "ax.set_ylim(-300, 300)\n",
    "\n",
    "line, = ax.plot(xs, ys)\n",
    "\n",
    "# Format plot\n",
    "plt.xticks(rotation=45, ha='right')\n",
    "plt.subplots_adjust(bottom=0.30)\n",
    "\n",
    "def animate(i, ys):\n",
    "    data = readData()\n",
    "    # print(data)\n",
    "    ys.append(data)\n",
    "    ys = ys[-x_len:]\n",
    "    line.set_ydata(ys)\n",
    "    return line,\n",
    "\n",
    "# Set up plot to call animate() function periodically\n",
    "ani = animation.FuncAnimation(fig, animate, fargs=(ys,), interval=50, blit=True)\n",
    "plt.show()\n",
    "\n",
    "sleep(10000)"
   ]
  }
 ],
 "metadata": {
  "kernelspec": {
   "display_name": "Python 3 (ipykernel)",
   "language": "python",
   "name": "python3"
  },
  "language_info": {
   "codemirror_mode": {
    "name": "ipython",
    "version": 3
   },
   "file_extension": ".py",
   "mimetype": "text/x-python",
   "name": "python",
   "nbconvert_exporter": "python",
   "pygments_lexer": "ipython3",
   "version": "3.10.9"
  }
 },
 "nbformat": 4,
 "nbformat_minor": 5
}
