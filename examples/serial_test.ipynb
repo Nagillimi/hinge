{
 "cells": [
  {
   "cell_type": "code",
   "execution_count": 1,
   "id": "be43a559-8417-45be-b2b5-11c7ac004638",
   "metadata": {
    "tags": []
   },
   "outputs": [
    {
     "name": "stdout",
     "output_type": "stream",
     "text": [
      "Connected to port:  COM8\n",
      "Calibrating...\n",
      "Incoming data config\n",
      "b'CONFIG: [ts, pot, ax1, ay1, az1, gx1, gy1, gz1, ax2, ay2, az2, gx2, gy2, gz2]\\r\\n'\n",
      "Length of packet: 71\n",
      "Packet type: <class 'bytes'> <class 'int'>\n",
      "First timestamp: 49 \n",
      "\n"
     ]
    }
   ],
   "source": [
    "import serial\n",
    "from anatomical_hinge_nagillimi.anatomical_hinge import AnatomicalHinge\n",
    "from anatomical_hinge_nagillimi.data import Data\n",
    "from anatomical_hinge_nagillimi.result.joint_result import HingeJointResult\n",
    "\n",
    "hinge = AnatomicalHinge()\n",
    "ser = serial.Serial(\"COM8\", 38400)\n",
    "\n",
    "print(\"Connected to port: \", ser.portstr)\n",
    "\n",
    "print(\"Calibrating...\")\n",
    "ser.write(bytes(b' '))\n",
    "ser.readline()\n",
    "\n",
    "print(\"Incoming data config\")\n",
    "print(ser.readline())\n",
    "serialData = ser.readline()\n",
    "\n",
    "print(\"Length of packet:\", len(serialData))\n",
    "print(\"Packet type:\", type(serialData), type(serialData[0]))\n",
    "print(\"First timestamp:\", int(serialData[0]), \"\\n\")"
   ]
  },
  {
   "cell_type": "code",
   "execution_count": 2,
   "id": "238752d3-9f37-4397-a420-3c4d087f6668",
   "metadata": {},
   "outputs": [],
   "source": [
    "# env constants\n",
    "max_raw_range = 16384 * 2\n",
    "g_per_raw_range = 2 / max_raw_range\n",
    "dps_per_raw_range = 250 / max_raw_range"
   ]
  },
  {
   "cell_type": "code",
   "execution_count": 3,
   "id": "ecdc126f",
   "metadata": {},
   "outputs": [],
   "source": [
    "import math\n",
    "\n",
    "# Define the read data function\n",
    "def readData():\n",
    "    byteData = ser.readline().split(b\"\\x09\")\n",
    "    ts = int(byteData[0]) / 1000\n",
    "    a1 = [\n",
    "        float(byteData[1]) * g_per_raw_range,\n",
    "        float(byteData[2]) * g_per_raw_range,\n",
    "        float(byteData[3]) * g_per_raw_range\n",
    "    ]\n",
    "    g1 = [\n",
    "        math.radians(float(byteData[4]) * dps_per_raw_range),\n",
    "        math.radians(float(byteData[5]) * dps_per_raw_range),\n",
    "        math.radians(float(byteData[6]) * dps_per_raw_range)\n",
    "    ]\n",
    "    a2 = [\n",
    "        float(byteData[7]) * g_per_raw_range,\n",
    "        float(byteData[8]) * g_per_raw_range,\n",
    "        float(byteData[9]) * g_per_raw_range\n",
    "    ]\n",
    "    g2 = [\n",
    "        math.radians(float(byteData[10]) * dps_per_raw_range),\n",
    "        math.radians(float(byteData[11]) * dps_per_raw_range),\n",
    "        math.radians(float(byteData[12]) * dps_per_raw_range)\n",
    "    ]\n",
    "    return Data(int(ts), a1, g1, a2, g2)"
   ]
  },
  {
   "cell_type": "code",
   "execution_count": 6,
   "id": "f61296f0-7f9a-496c-ac26-475a79e1fc7b",
   "metadata": {
    "collapsed": true,
    "jupyter": {
     "outputs_hidden": true
    },
    "tags": []
   },
   "outputs": [
    {
     "ename": "TypeError",
     "evalue": "Object of type AnatomicalHinge is not JSON serializable",
     "output_type": "error",
     "traceback": [
      "\u001b[1;31m---------------------------------------------------------------------------\u001b[0m",
      "\u001b[1;31mTypeError\u001b[0m                                 Traceback (most recent call last)",
      "Cell \u001b[1;32mIn[6], line 6\u001b[0m\n\u001b[0;32m      4\u001b[0m data \u001b[38;5;241m=\u001b[39m readData()\n\u001b[0;32m      5\u001b[0m hinge\u001b[38;5;241m.\u001b[39mupdate(data)\n\u001b[1;32m----> 6\u001b[0m \u001b[38;5;28mprint\u001b[39m(\u001b[43mhinge\u001b[49m\u001b[38;5;241;43m.\u001b[39;49m\u001b[43mgetDetailsJSON\u001b[49m\u001b[43m(\u001b[49m\u001b[43m)\u001b[49m)\n\u001b[0;32m      7\u001b[0m \u001b[38;5;28;01mif\u001b[39;00m hinge\u001b[38;5;241m.\u001b[39mstatus \u001b[38;5;241m==\u001b[39m HingeJointResult\u001b[38;5;241m.\u001b[39mSTREAMING: \u001b[38;5;28;01mbreak\u001b[39;00m\n",
      "File \u001b[1;32mB:\\PROJECTS\\anatomical-hinge-nagillimi\\src\\anatomical_hinge_nagillimi\\anatomical_hinge.py:50\u001b[0m, in \u001b[0;36mAnatomicalHinge.getDetailsJSON\u001b[1;34m(self)\u001b[0m\n\u001b[0;32m     49\u001b[0m \u001b[38;5;28;01mdef\u001b[39;00m \u001b[38;5;21mgetDetailsJSON\u001b[39m(\u001b[38;5;28mself\u001b[39m) \u001b[38;5;241m-\u001b[39m\u001b[38;5;241m>\u001b[39m \u001b[38;5;28mstr\u001b[39m:\n\u001b[1;32m---> 50\u001b[0m     \u001b[38;5;28;01mreturn\u001b[39;00m \u001b[43mDetails\u001b[49m\u001b[43m(\u001b[49m\u001b[43m)\u001b[49m\u001b[38;5;241;43m.\u001b[39;49m\u001b[43mcreateReportJSON\u001b[49m\u001b[43m(\u001b[49m\u001b[38;5;28;43mself\u001b[39;49m\u001b[43m)\u001b[49m\n",
      "File \u001b[1;32mB:\\PROJECTS\\anatomical-hinge-nagillimi\\src\\anatomical_hinge_nagillimi\\details.py:9\u001b[0m, in \u001b[0;36mDetails.createReportJSON\u001b[1;34m(self, contents)\u001b[0m\n\u001b[0;32m      8\u001b[0m \u001b[38;5;28;01mdef\u001b[39;00m \u001b[38;5;21mcreateReportJSON\u001b[39m(\u001b[38;5;28mself\u001b[39m, contents) \u001b[38;5;241m-\u001b[39m\u001b[38;5;241m>\u001b[39m \u001b[38;5;28mstr\u001b[39m:\n\u001b[1;32m----> 9\u001b[0m     \u001b[38;5;28;01mreturn\u001b[39;00m \u001b[43mjson\u001b[49m\u001b[38;5;241;43m.\u001b[39;49m\u001b[43mdumps\u001b[49m\u001b[43m(\u001b[49m\u001b[43mcontents\u001b[49m\u001b[43m)\u001b[49m\n",
      "File \u001b[1;32m~\\AppData\\Local\\Programs\\Python\\Python39\\lib\\json\\__init__.py:231\u001b[0m, in \u001b[0;36mdumps\u001b[1;34m(obj, skipkeys, ensure_ascii, check_circular, allow_nan, cls, indent, separators, default, sort_keys, **kw)\u001b[0m\n\u001b[0;32m    226\u001b[0m \u001b[38;5;66;03m# cached encoder\u001b[39;00m\n\u001b[0;32m    227\u001b[0m \u001b[38;5;28;01mif\u001b[39;00m (\u001b[38;5;129;01mnot\u001b[39;00m skipkeys \u001b[38;5;129;01mand\u001b[39;00m ensure_ascii \u001b[38;5;129;01mand\u001b[39;00m\n\u001b[0;32m    228\u001b[0m     check_circular \u001b[38;5;129;01mand\u001b[39;00m allow_nan \u001b[38;5;129;01mand\u001b[39;00m\n\u001b[0;32m    229\u001b[0m     \u001b[38;5;28mcls\u001b[39m \u001b[38;5;129;01mis\u001b[39;00m \u001b[38;5;28;01mNone\u001b[39;00m \u001b[38;5;129;01mand\u001b[39;00m indent \u001b[38;5;129;01mis\u001b[39;00m \u001b[38;5;28;01mNone\u001b[39;00m \u001b[38;5;129;01mand\u001b[39;00m separators \u001b[38;5;129;01mis\u001b[39;00m \u001b[38;5;28;01mNone\u001b[39;00m \u001b[38;5;129;01mand\u001b[39;00m\n\u001b[0;32m    230\u001b[0m     default \u001b[38;5;129;01mis\u001b[39;00m \u001b[38;5;28;01mNone\u001b[39;00m \u001b[38;5;129;01mand\u001b[39;00m \u001b[38;5;129;01mnot\u001b[39;00m sort_keys \u001b[38;5;129;01mand\u001b[39;00m \u001b[38;5;129;01mnot\u001b[39;00m kw):\n\u001b[1;32m--> 231\u001b[0m     \u001b[38;5;28;01mreturn\u001b[39;00m \u001b[43m_default_encoder\u001b[49m\u001b[38;5;241;43m.\u001b[39;49m\u001b[43mencode\u001b[49m\u001b[43m(\u001b[49m\u001b[43mobj\u001b[49m\u001b[43m)\u001b[49m\n\u001b[0;32m    232\u001b[0m \u001b[38;5;28;01mif\u001b[39;00m \u001b[38;5;28mcls\u001b[39m \u001b[38;5;129;01mis\u001b[39;00m \u001b[38;5;28;01mNone\u001b[39;00m:\n\u001b[0;32m    233\u001b[0m     \u001b[38;5;28mcls\u001b[39m \u001b[38;5;241m=\u001b[39m JSONEncoder\n",
      "File \u001b[1;32m~\\AppData\\Local\\Programs\\Python\\Python39\\lib\\json\\encoder.py:199\u001b[0m, in \u001b[0;36mJSONEncoder.encode\u001b[1;34m(self, o)\u001b[0m\n\u001b[0;32m    195\u001b[0m         \u001b[38;5;28;01mreturn\u001b[39;00m encode_basestring(o)\n\u001b[0;32m    196\u001b[0m \u001b[38;5;66;03m# This doesn't pass the iterator directly to ''.join() because the\u001b[39;00m\n\u001b[0;32m    197\u001b[0m \u001b[38;5;66;03m# exceptions aren't as detailed.  The list call should be roughly\u001b[39;00m\n\u001b[0;32m    198\u001b[0m \u001b[38;5;66;03m# equivalent to the PySequence_Fast that ''.join() would do.\u001b[39;00m\n\u001b[1;32m--> 199\u001b[0m chunks \u001b[38;5;241m=\u001b[39m \u001b[38;5;28;43mself\u001b[39;49m\u001b[38;5;241;43m.\u001b[39;49m\u001b[43miterencode\u001b[49m\u001b[43m(\u001b[49m\u001b[43mo\u001b[49m\u001b[43m,\u001b[49m\u001b[43m \u001b[49m\u001b[43m_one_shot\u001b[49m\u001b[38;5;241;43m=\u001b[39;49m\u001b[38;5;28;43;01mTrue\u001b[39;49;00m\u001b[43m)\u001b[49m\n\u001b[0;32m    200\u001b[0m \u001b[38;5;28;01mif\u001b[39;00m \u001b[38;5;129;01mnot\u001b[39;00m \u001b[38;5;28misinstance\u001b[39m(chunks, (\u001b[38;5;28mlist\u001b[39m, \u001b[38;5;28mtuple\u001b[39m)):\n\u001b[0;32m    201\u001b[0m     chunks \u001b[38;5;241m=\u001b[39m \u001b[38;5;28mlist\u001b[39m(chunks)\n",
      "File \u001b[1;32m~\\AppData\\Local\\Programs\\Python\\Python39\\lib\\json\\encoder.py:257\u001b[0m, in \u001b[0;36mJSONEncoder.iterencode\u001b[1;34m(self, o, _one_shot)\u001b[0m\n\u001b[0;32m    252\u001b[0m \u001b[38;5;28;01melse\u001b[39;00m:\n\u001b[0;32m    253\u001b[0m     _iterencode \u001b[38;5;241m=\u001b[39m _make_iterencode(\n\u001b[0;32m    254\u001b[0m         markers, \u001b[38;5;28mself\u001b[39m\u001b[38;5;241m.\u001b[39mdefault, _encoder, \u001b[38;5;28mself\u001b[39m\u001b[38;5;241m.\u001b[39mindent, floatstr,\n\u001b[0;32m    255\u001b[0m         \u001b[38;5;28mself\u001b[39m\u001b[38;5;241m.\u001b[39mkey_separator, \u001b[38;5;28mself\u001b[39m\u001b[38;5;241m.\u001b[39mitem_separator, \u001b[38;5;28mself\u001b[39m\u001b[38;5;241m.\u001b[39msort_keys,\n\u001b[0;32m    256\u001b[0m         \u001b[38;5;28mself\u001b[39m\u001b[38;5;241m.\u001b[39mskipkeys, _one_shot)\n\u001b[1;32m--> 257\u001b[0m \u001b[38;5;28;01mreturn\u001b[39;00m \u001b[43m_iterencode\u001b[49m\u001b[43m(\u001b[49m\u001b[43mo\u001b[49m\u001b[43m,\u001b[49m\u001b[43m \u001b[49m\u001b[38;5;241;43m0\u001b[39;49m\u001b[43m)\u001b[49m\n",
      "File \u001b[1;32m~\\AppData\\Local\\Programs\\Python\\Python39\\lib\\json\\encoder.py:179\u001b[0m, in \u001b[0;36mJSONEncoder.default\u001b[1;34m(self, o)\u001b[0m\n\u001b[0;32m    160\u001b[0m \u001b[38;5;28;01mdef\u001b[39;00m \u001b[38;5;21mdefault\u001b[39m(\u001b[38;5;28mself\u001b[39m, o):\n\u001b[0;32m    161\u001b[0m \u001b[38;5;250m    \u001b[39m\u001b[38;5;124;03m\"\"\"Implement this method in a subclass such that it returns\u001b[39;00m\n\u001b[0;32m    162\u001b[0m \u001b[38;5;124;03m    a serializable object for ``o``, or calls the base implementation\u001b[39;00m\n\u001b[0;32m    163\u001b[0m \u001b[38;5;124;03m    (to raise a ``TypeError``).\u001b[39;00m\n\u001b[1;32m   (...)\u001b[0m\n\u001b[0;32m    177\u001b[0m \n\u001b[0;32m    178\u001b[0m \u001b[38;5;124;03m    \"\"\"\u001b[39;00m\n\u001b[1;32m--> 179\u001b[0m     \u001b[38;5;28;01mraise\u001b[39;00m \u001b[38;5;167;01mTypeError\u001b[39;00m(\u001b[38;5;124mf\u001b[39m\u001b[38;5;124m'\u001b[39m\u001b[38;5;124mObject of type \u001b[39m\u001b[38;5;132;01m{\u001b[39;00mo\u001b[38;5;241m.\u001b[39m\u001b[38;5;18m__class__\u001b[39m\u001b[38;5;241m.\u001b[39m\u001b[38;5;18m__name__\u001b[39m\u001b[38;5;132;01m}\u001b[39;00m\u001b[38;5;124m \u001b[39m\u001b[38;5;124m'\u001b[39m\n\u001b[0;32m    180\u001b[0m                     \u001b[38;5;124mf\u001b[39m\u001b[38;5;124m'\u001b[39m\u001b[38;5;124mis not JSON serializable\u001b[39m\u001b[38;5;124m'\u001b[39m)\n",
      "\u001b[1;31mTypeError\u001b[0m: Object of type AnatomicalHinge is not JSON serializable"
     ]
    }
   ],
   "source": [
    "# Calibrate\n",
    "byteData = ser.readline().split(b\"\\x09\")\n",
    "while len(byteData) != 0:\n",
    "    data = readData()\n",
    "    hinge.update(data)\n",
    "    print(hinge.axisCalibration.derivSumOfSquares)\n",
    "    if hinge.status == HingeJointResult.STREAMING: break"
   ]
  },
  {
   "cell_type": "code",
   "execution_count": null,
   "id": "efd4b5df",
   "metadata": {},
   "outputs": [],
   "source": [
    "for i in range(1000):\n",
    "    print(hinge.update(readData()))"
   ]
  },
  {
   "cell_type": "code",
   "execution_count": null,
   "metadata": {},
   "outputs": [],
   "source": [
    "# def animate(line, ys, x_len):\n",
    "#     data = readData()\n",
    "#     # print(data)\n",
    "#     ys.append(data)\n",
    "#     ys = ys[-x_len:]\n",
    "#     line.set_ydata(ys)\n",
    "#     return line,"
   ]
  },
  {
   "cell_type": "code",
   "execution_count": null,
   "id": "ef0f77c7-3610-4782-831f-624cbc24db2c",
   "metadata": {
    "tags": []
   },
   "outputs": [],
   "source": [
    "# from time import sleep\n",
    "# import matplotlib.pyplot as plt\n",
    "# import matplotlib.animation as animation\n",
    "\n",
    "# # Create figure for plotting\n",
    "# fig = plt.figure()\n",
    "# ax = fig.add_subplot(1, 1, 1)\n",
    "\n",
    "# x_len = 100\n",
    "# xs = list(range(0, x_len))\n",
    "# ys = [0] * x_len\n",
    "# ax.set_ylim(-300, 300)\n",
    "\n",
    "# line, = ax.plot(xs, ys)\n",
    "\n",
    "# # Format plot\n",
    "# plt.xticks(rotation=45, ha='right')\n",
    "# plt.subplots_adjust(bottom=0.30)\n",
    "\n",
    "# # Set up plot to call animate() function periodically\n",
    "# ani = animation.FuncAnimation(fig, animate, fargs=(line, ys, x_len), interval=50, blit=True)\n",
    "# plt.show()\n",
    "\n",
    "# sleep(10000)"
   ]
  }
 ],
 "metadata": {
  "kernelspec": {
   "display_name": "Python 3 (ipykernel)",
   "language": "python",
   "name": "python3"
  },
  "language_info": {
   "codemirror_mode": {
    "name": "ipython",
    "version": 3
   },
   "file_extension": ".py",
   "mimetype": "text/x-python",
   "name": "python",
   "nbconvert_exporter": "python",
   "pygments_lexer": "ipython3",
   "version": "3.9.10"
  }
 },
 "nbformat": 4,
 "nbformat_minor": 5
}
