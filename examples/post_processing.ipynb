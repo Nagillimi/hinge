{
 "cells": [
  {
   "cell_type": "code",
   "execution_count": 5,
   "metadata": {},
   "outputs": [
    {
     "name": "stdout",
     "output_type": "stream",
     "text": [
      "19661011\t-3872\t14612\t345\t354\t-92\t-590\t140\t14856\t-1380\t464\t-100\t-499\n",
      "\n"
     ]
    }
   ],
   "source": [
    "from anatomical_hinge_nagillimi.anatomical_hinge import AnatomicalHinge\n",
    "from anatomical_hinge_nagillimi.data import Data\n",
    "from anatomical_hinge_nagillimi.result.joint_result import HingeJointResult\n",
    "\n",
    "hinge = AnatomicalHinge()\n",
    "\n",
    "# Read raw data into a buffer\n",
    "f = open(\"./raw-data/calibration_output_2023-06-25_09-25-50.log\", \"r\")\n",
    "print(f.readline())\n",
    "\n",
    "# parse the data by line and assign it to variables\n",
    "\n",
    "\n",
    "# iterate over the parsed data buffer"
   ]
  }
 ],
 "metadata": {
  "kernelspec": {
   "display_name": "base",
   "language": "python",
   "name": "python3"
  },
  "language_info": {
   "codemirror_mode": {
    "name": "ipython",
    "version": 3
   },
   "file_extension": ".py",
   "mimetype": "text/x-python",
   "name": "python",
   "nbconvert_exporter": "python",
   "pygments_lexer": "ipython3",
   "version": "3.10.9"
  },
  "orig_nbformat": 4
 },
 "nbformat": 4,
 "nbformat_minor": 2
}
