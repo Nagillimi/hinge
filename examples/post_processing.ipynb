{
 "cells": [
  {
   "cell_type": "code",
   "execution_count": null,
   "metadata": {},
   "outputs": [],
   "source": [
    "from anatomical_hinge_nagillimi.anatomical_hinge import AnatomicalHinge\n",
    "from anatomical_hinge_nagillimi.data import Data\n",
    "from anatomical_hinge_nagillimi.result.joint_result import HingeJointResult\n",
    "\n",
    "hinge = AnatomicalHinge()\n",
    "file = \"calibration_output_2023-06-25_09-25-50.log\"\n",
    "f = open((\"./raw-data/\" + file), \"r\")\n",
    "\n",
    "# Read raw data into a buffer\n",
    "print(\"Opened Data Log:\", file)\n",
    "data = f.readline().split(\"\\t\")\n",
    "print(\"Length of packet:\", len(data))\n",
    "print(\"Packet type:\", type(data), type(data[0]))\n",
    "print(\"First timestamp:\", int(data[0]), \"\\n\")"
   ]
  },
  {
   "cell_type": "code",
   "execution_count": null,
   "metadata": {},
   "outputs": [],
   "source": [
    "# setup env constants\n",
    "max_raw_range = 16384 * 2\n",
    "g_per_raw_range = 2 / max_raw_range\n",
    "dps_per_raw_range = 250 / max_raw_range\n",
    "\n",
    "# Setup the algorithm constants\n"
   ]
  },
  {
   "cell_type": "code",
   "execution_count": null,
   "metadata": {},
   "outputs": [],
   "source": [
    "import math\n",
    "\n",
    "# parse the data by line and assign it to variables\n",
    "stringData = f.readline().split(\"\\t\")\n",
    "# while len(stringData) != 0:\n",
    "for x in range(100000):\n",
    "    # print(stringData[0])\n",
    "    ts =  int(stringData[0]) / 1000\n",
    "    a1 = [\n",
    "        float(stringData[1]) * g_per_raw_range,\n",
    "        float(stringData[2]) * g_per_raw_range,\n",
    "        float(stringData[3]) * g_per_raw_range\n",
    "    ]\n",
    "    g1 = [\n",
    "        math.radians(float(stringData[4]) * dps_per_raw_range),\n",
    "        math.radians(float(stringData[5]) * dps_per_raw_range),\n",
    "        math.radians(float(stringData[6]) * dps_per_raw_range)\n",
    "    ]\n",
    "    a2 = [\n",
    "        float(stringData[7]) * g_per_raw_range,\n",
    "        float(stringData[8]) * g_per_raw_range,\n",
    "        float(stringData[9]) * g_per_raw_range\n",
    "    ]\n",
    "    g2 = [\n",
    "        math.radians(float(stringData[10]) * dps_per_raw_range),\n",
    "        math.radians(float(stringData[11]) * dps_per_raw_range),\n",
    "        math.radians(float(stringData[12]) * dps_per_raw_range)\n",
    "    ]\n",
    "    combinedAngle = hinge.update(Data(int(ts), a1, g1, a2, g2))\n",
    "    if hinge.status == HingeJointResult.STREAMING: break\n",
    "\n",
    "    stringData = f.readline().split(\"\\t\")"
   ]
  }
 ],
 "metadata": {
  "kernelspec": {
   "display_name": "base",
   "language": "python",
   "name": "python3"
  },
  "language_info": {
   "codemirror_mode": {
    "name": "ipython",
    "version": 3
   },
   "file_extension": ".py",
   "mimetype": "text/x-python",
   "name": "python",
   "nbconvert_exporter": "python",
   "pygments_lexer": "ipython3",
   "version": "3.10.9"
  },
  "orig_nbformat": 4
 },
 "nbformat": 4,
 "nbformat_minor": 2
}
